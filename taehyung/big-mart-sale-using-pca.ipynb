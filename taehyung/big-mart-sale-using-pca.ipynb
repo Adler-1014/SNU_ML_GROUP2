{
 "cells": [
  {
   "cell_type": "code",
   "execution_count": 1,
   "metadata": {
    "_cell_guid": "d72dea23-7813-4cfb-91dd-338ca22b8524",
    "_uuid": "44e059a94623dd58568be00ce0e3148e46511a5a"
   },
   "outputs": [
    {
     "name": "stdout",
     "output_type": "stream",
     "text": [
      "Test.csv\n",
      "Train.csv\n",
      "\n"
     ]
    }
   ],
   "source": [
    "# This Python 3 environment comes with many helpful analytics libraries installed\n",
    "# It is defined by the kaggle/python docker image: https://github.com/kaggle/docker-python\n",
    "# For example, here's several helpful packages to load in \n",
    "\n",
    "import numpy as np # linear algebra\n",
    "import pandas as pd # data processing, CSV file I/O (e.g. pd.read_csv)\n",
    "\n",
    "# Input data files are available in the \"../input/\" directory.\n",
    "# For example, running this (by clicking run or pressing Shift+Enter) will list the files in the input directory\n",
    "\n",
    "from subprocess import check_output\n",
    "print(check_output([\"ls\", \"../input\"]).decode(\"utf8\"))\n",
    "\n",
    "# Any results you write to the current directory are saved as output."
   ]
  },
  {
   "cell_type": "markdown",
   "metadata": {
    "_cell_guid": "cbe79e06-278a-4984-bc31-3cc3ff580b2d",
    "_uuid": "a9a5acedeb4369958f46b344aa85cf0fff9dec65"
   },
   "source": [
    "This is a demonstration of application of Principle Component on the Dataset Big Mart sale. Beofre we apply PCA, we have to do feature engineering, converting all features into numerical data for easier analysis."
   ]
  },
  {
   "cell_type": "code",
   "execution_count": 2,
   "metadata": {
    "_cell_guid": "6dc97076-3208-402f-870a-1ae244b67e87",
    "_uuid": "92ab2cd6279c2a25036a8672087a783fa2c84ff6",
    "collapsed": true
   },
   "outputs": [],
   "source": [
    "#Loading data.\n",
    "train=pd.read_csv(\"../input/Train.csv\")\n",
    "test=pd.read_csv(\"../input/Test.csv\")"
   ]
  },
  {
   "cell_type": "code",
   "execution_count": 3,
   "metadata": {
    "_cell_guid": "5a6aae6c-07d6-4b6d-9e1d-7e9c53635e16",
    "_uuid": "f754d532c5be5d3232f2e53ddd55f06e39f72090"
   },
   "outputs": [
    {
     "name": "stdout",
     "output_type": "stream",
     "text": [
      "Rows and Columns in training set: (8523, 12)\n"
     ]
    }
   ],
   "source": [
    "print(\"Rows and Columns in training set:\", train.shape)"
   ]
  },
  {
   "cell_type": "code",
   "execution_count": 4,
   "metadata": {
    "_cell_guid": "95810446-c6c7-4ccd-8054-72cd8ba1641c",
    "_uuid": "80da79cb4e5442b5599e2999bf43fc1b33a13e53"
   },
   "outputs": [
    {
     "name": "stdout",
     "output_type": "stream",
     "text": [
      "Rows and columns in testing set:  (5681, 11)\n"
     ]
    }
   ],
   "source": [
    "print(\"Rows and columns in testing set: \", test.shape)"
   ]
  },
  {
   "cell_type": "code",
   "execution_count": 5,
   "metadata": {
    "_cell_guid": "17e18fdf-8324-4c5c-82cf-7a1a86e3a1fa",
    "_uuid": "750ad13ec7c32da5cf792b05a52b0a03e726b839"
   },
   "outputs": [
    {
     "data": {
      "text/plain": [
       "Index(['Item_Identifier', 'Item_Weight', 'Item_Fat_Content', 'Item_Visibility',\n",
       "       'Item_Type', 'Item_MRP', 'Outlet_Identifier',\n",
       "       'Outlet_Establishment_Year', 'Outlet_Size', 'Outlet_Location_Type',\n",
       "       'Outlet_Type', 'Item_Outlet_Sales'],\n",
       "      dtype='object')"
      ]
     },
     "execution_count": 5,
     "metadata": {},
     "output_type": "execute_result"
    }
   ],
   "source": [
    "#getting familiar with the structure of dataset.\n",
    "train.columns"
   ]
  },
  {
   "cell_type": "markdown",
   "metadata": {
    "_cell_guid": "f9a9752b-ed29-47ba-8bd6-8f6e277c4f4e",
    "_uuid": "7690dd332b49d101f05820b12162b0d90f6a5f8e"
   },
   "source": [
    "Let's check for missing values in the dataset."
   ]
  },
  {
   "cell_type": "code",
   "execution_count": 6,
   "metadata": {
    "_cell_guid": "ef510246-1821-48b2-8858-a9d4cd927561",
    "_uuid": "c29ab7cb1f138aba5cb5670eb4ed6cc2502a2be1"
   },
   "outputs": [
    {
     "name": "stdout",
     "output_type": "stream",
     "text": [
      "Number of missing values in column  Item_Weight : 1463\n",
      "Number of missing values in column  Outlet_Size : 2410\n"
     ]
    }
   ],
   "source": [
    "for col in train:\n",
    "    val=train[col].isnull().sum()\n",
    "    if val>0.0:\n",
    "        print(\"Number of missing values in column \",col,\":\",val)\n",
    "    #else:\n",
    "     #   print(\"Number of values in column \",col,\":\",85223-val)"
   ]
  },
  {
   "cell_type": "code",
   "execution_count": 7,
   "metadata": {
    "_cell_guid": "6e34bd6d-aeb9-4860-9927-e3cd90b2a630",
    "_uuid": "554dc76570ae7e2ee5e77a4d8ffa60db32b8d08f"
   },
   "outputs": [
    {
     "name": "stdout",
     "output_type": "stream",
     "text": [
      "Number of missing values in column  Item_Weight : 976\n",
      "Number of missing values in column  Outlet_Size : 1606\n"
     ]
    }
   ],
   "source": [
    "for col in test:\n",
    "    val=test[col].isnull().sum()\n",
    "    if val>0.0:\n",
    "        print(\"Number of missing values in column \",col,\":\",val)\n",
    "    #else:\n",
    "     #   print(\"Number of values in column \",col,\":\",5681-val)"
   ]
  },
  {
   "cell_type": "markdown",
   "metadata": {
    "_cell_guid": "16f6ec7e-4c24-46b8-8ea9-f667b3ab67cc",
    "_uuid": "8ca2f0e63debdd608796e3237ab93027d10dce75"
   },
   "source": [
    "For better prediction, we will be filling the missing values. Missing values can be filled by finding it's correlation with other features, sometimes the correlation is so propotional that we directly fill in the missing values. Another solution to this problem could be filling the missing datas with median value or mode value of the feature as would make more sense. "
   ]
  },
  {
   "cell_type": "markdown",
   "metadata": {
    "_cell_guid": "fe5f2f78-e8db-445b-b52c-f6ffceab36a1",
    "_uuid": "6c3f5101da27c8600a8296d16c29410ae8b07287"
   },
   "source": [
    "Heatmap to predict the correlation of Item weight and Outlet size. Heatmap doesn't work for catatogorical features, which could result in missing correlation between the missing values and the catagorical features, if there would be any relationship. So we first convert the catagorical features into numerical."
   ]
  },
  {
   "cell_type": "code",
   "execution_count": 8,
   "metadata": {
    "_cell_guid": "8ca1497e-6330-4d65-bc24-18c84cc06f96",
    "_uuid": "5cd7deba0879f6f037db4bc403ce73d951be301c",
    "collapsed": true
   },
   "outputs": [
    {
     "name": "stdout",
     "output_type": "stream",
     "text": [
      "<class 'pandas.core.frame.DataFrame'>\n",
      "RangeIndex: 8523 entries, 0 to 8522\n",
      "Data columns (total 12 columns):\n",
      "Item_Identifier              8523 non-null object\n",
      "Item_Weight                  7060 non-null float64\n",
      "Item_Fat_Content             8523 non-null object\n",
      "Item_Visibility              8523 non-null float64\n",
      "Item_Type                    8523 non-null object\n",
      "Item_MRP                     8523 non-null float64\n",
      "Outlet_Identifier            8523 non-null object\n",
      "Outlet_Establishment_Year    8523 non-null int64\n",
      "Outlet_Size                  6113 non-null object\n",
      "Outlet_Location_Type         8523 non-null object\n",
      "Outlet_Type                  8523 non-null object\n",
      "Item_Outlet_Sales            8523 non-null float64\n",
      "dtypes: float64(4), int64(1), object(7)\n",
      "memory usage: 799.1+ KB\n"
     ]
    }
   ],
   "source": [
    "train.info()"
   ]
  },
  {
   "cell_type": "markdown",
   "metadata": {
    "_cell_guid": "45c011cb-2be2-4508-ab7b-128e470e8c5f",
    "_uuid": "7fa33f591d1009d825bfee7397ae10ee687e5628"
   },
   "source": [
    "Here, we find that there are 7 categorical features:\n",
    "Item_Identifier, Item_Fat_Content, Item_Type, Outlet_Identifier, Outlet_Size, Outlet_Location_Type, Outlet_Type\n",
    "Let's use mapping to convert them into numerical data."
   ]
  },
  {
   "cell_type": "code",
   "execution_count": 9,
   "metadata": {
    "_cell_guid": "8eee8f9f-c2c9-48bc-a2f6-bb8642cccc11",
    "_uuid": "89050c9d70859b2753a0506c792aa877a42c133a",
    "collapsed": true
   },
   "outputs": [
    {
     "name": "stdout",
     "output_type": "stream",
     "text": [
      "Low Fat    5089\n",
      "Regular    2889\n",
      "LF          316\n",
      "reg         117\n",
      "low fat     112\n",
      "Name: Item_Fat_Content, dtype: int64\n",
      "Fruits and Vegetables    1232\n",
      "Snack Foods              1200\n",
      "Household                 910\n",
      "Frozen Foods              856\n",
      "Dairy                     682\n",
      "Canned                    649\n",
      "Baking Goods              648\n",
      "Health and Hygiene        520\n",
      "Soft Drinks               445\n",
      "Meat                      425\n",
      "Breads                    251\n",
      "Hard Drinks               214\n",
      "Others                    169\n",
      "Starchy Foods             148\n",
      "Breakfast                 110\n",
      "Seafood                    64\n",
      "Name: Item_Type, dtype: int64\n",
      "OUT027    935\n",
      "OUT013    932\n",
      "OUT035    930\n",
      "OUT049    930\n",
      "OUT046    930\n",
      "OUT045    929\n",
      "OUT018    928\n",
      "OUT017    926\n",
      "OUT010    555\n",
      "OUT019    528\n",
      "Name: Outlet_Identifier, dtype: int64\n",
      "Medium    2793\n",
      "Small     2388\n",
      "High       932\n",
      "Name: Outlet_Size, dtype: int64\n",
      "Tier 3    3350\n",
      "Tier 2    2785\n",
      "Tier 1    2388\n",
      "Name: Outlet_Location_Type, dtype: int64\n",
      "Supermarket Type1    5577\n",
      "Grocery Store        1083\n",
      "Supermarket Type3     935\n",
      "Supermarket Type2     928\n",
      "Name: Outlet_Type, dtype: int64\n"
     ]
    }
   ],
   "source": [
    "print(train[\"Item_Fat_Content\"].value_counts())\n",
    "print(train[\"Item_Type\"].value_counts())\n",
    "print(train[\"Outlet_Identifier\"].value_counts())\n",
    "print(train[\"Outlet_Size\"].value_counts())\n",
    "print(train[\"Outlet_Location_Type\"].value_counts())\n",
    "print(train[\"Outlet_Type\"].value_counts())"
   ]
  },
  {
   "cell_type": "code",
   "execution_count": 10,
   "metadata": {
    "_cell_guid": "23469d46-e40a-4441-9cf8-f1894f71cc10",
    "_uuid": "ccc6fcc45e15a604851036bf095995136c96ea49"
   },
   "outputs": [
    {
     "data": {
      "text/html": [
       "<div>\n",
       "<style>\n",
       "    .dataframe thead tr:only-child th {\n",
       "        text-align: right;\n",
       "    }\n",
       "\n",
       "    .dataframe thead th {\n",
       "        text-align: left;\n",
       "    }\n",
       "\n",
       "    .dataframe tbody tr th {\n",
       "        vertical-align: top;\n",
       "    }\n",
       "</style>\n",
       "<table border=\"1\" class=\"dataframe\">\n",
       "  <thead>\n",
       "    <tr style=\"text-align: right;\">\n",
       "      <th></th>\n",
       "      <th>Item_Identifier</th>\n",
       "      <th>Item_Weight</th>\n",
       "      <th>Item_Fat_Content</th>\n",
       "      <th>Item_Visibility</th>\n",
       "      <th>Item_Type</th>\n",
       "      <th>Item_MRP</th>\n",
       "      <th>Outlet_Identifier</th>\n",
       "      <th>Outlet_Establishment_Year</th>\n",
       "      <th>Outlet_Size</th>\n",
       "      <th>Outlet_Location_Type</th>\n",
       "      <th>Outlet_Type</th>\n",
       "    </tr>\n",
       "  </thead>\n",
       "  <tbody>\n",
       "    <tr>\n",
       "      <th>0</th>\n",
       "      <td>FDW58</td>\n",
       "      <td>20.750</td>\n",
       "      <td>1</td>\n",
       "      <td>0.007565</td>\n",
       "      <td>2</td>\n",
       "      <td>107.8622</td>\n",
       "      <td>49</td>\n",
       "      <td>1999</td>\n",
       "      <td>2.0</td>\n",
       "      <td>1</td>\n",
       "      <td>1</td>\n",
       "    </tr>\n",
       "    <tr>\n",
       "      <th>1</th>\n",
       "      <td>FDW14</td>\n",
       "      <td>8.300</td>\n",
       "      <td>4</td>\n",
       "      <td>0.038428</td>\n",
       "      <td>5</td>\n",
       "      <td>87.3198</td>\n",
       "      <td>17</td>\n",
       "      <td>2007</td>\n",
       "      <td>0.0</td>\n",
       "      <td>2</td>\n",
       "      <td>1</td>\n",
       "    </tr>\n",
       "    <tr>\n",
       "      <th>2</th>\n",
       "      <td>NCN55</td>\n",
       "      <td>14.600</td>\n",
       "      <td>1</td>\n",
       "      <td>0.099575</td>\n",
       "      <td>13</td>\n",
       "      <td>241.7538</td>\n",
       "      <td>10</td>\n",
       "      <td>1998</td>\n",
       "      <td>0.0</td>\n",
       "      <td>3</td>\n",
       "      <td>4</td>\n",
       "    </tr>\n",
       "    <tr>\n",
       "      <th>3</th>\n",
       "      <td>FDQ58</td>\n",
       "      <td>7.315</td>\n",
       "      <td>1</td>\n",
       "      <td>0.015388</td>\n",
       "      <td>2</td>\n",
       "      <td>155.0340</td>\n",
       "      <td>17</td>\n",
       "      <td>2007</td>\n",
       "      <td>0.0</td>\n",
       "      <td>2</td>\n",
       "      <td>1</td>\n",
       "    </tr>\n",
       "    <tr>\n",
       "      <th>4</th>\n",
       "      <td>FDY38</td>\n",
       "      <td>NaN</td>\n",
       "      <td>2</td>\n",
       "      <td>0.118599</td>\n",
       "      <td>5</td>\n",
       "      <td>234.2300</td>\n",
       "      <td>27</td>\n",
       "      <td>1985</td>\n",
       "      <td>2.0</td>\n",
       "      <td>3</td>\n",
       "      <td>3</td>\n",
       "    </tr>\n",
       "  </tbody>\n",
       "</table>\n",
       "</div>"
      ],
      "text/plain": [
       "  Item_Identifier  Item_Weight  Item_Fat_Content  Item_Visibility  Item_Type  \\\n",
       "0           FDW58       20.750                 1         0.007565          2   \n",
       "1           FDW14        8.300                 4         0.038428          5   \n",
       "2           NCN55       14.600                 1         0.099575         13   \n",
       "3           FDQ58        7.315                 1         0.015388          2   \n",
       "4           FDY38          NaN                 2         0.118599          5   \n",
       "\n",
       "   Item_MRP  Outlet_Identifier  Outlet_Establishment_Year  Outlet_Size  \\\n",
       "0  107.8622                 49                       1999          2.0   \n",
       "1   87.3198                 17                       2007          0.0   \n",
       "2  241.7538                 10                       1998          0.0   \n",
       "3  155.0340                 17                       2007          0.0   \n",
       "4  234.2300                 27                       1985          2.0   \n",
       "\n",
       "   Outlet_Location_Type  Outlet_Type  \n",
       "0                     1            1  \n",
       "1                     2            1  \n",
       "2                     3            4  \n",
       "3                     2            1  \n",
       "4                     3            3  "
      ]
     },
     "execution_count": 10,
     "metadata": {},
     "output_type": "execute_result"
    }
   ],
   "source": [
    "combine=[test, train]\n",
    "content_mapping = {'Low Fat': 1, 'Regular': 2, 'LF': 3, 'reg': 4, 'low fat': 5}\n",
    "item_mapping = {'Fruits and Vegetables': 1, 'Snack Foods': 2, 'Household': 3, 'Frozen Foods': 4, 'Dairy': 5, 'Canned':6, 'Baking Goods':7, 'Health and Hygiene':8, 'Soft Drinks':9, 'Meat':10, 'Breads':11, 'Hard Drinks':12, 'Others':13, 'Starchy Foods':14, 'Breakfast':15, 'Seafood':16}\n",
    "outletIdentifier_mapping ={'OUT027': 27, 'OUT013': 13, 'OUT046': 46, 'OUT035': 35, 'OUT049': 49, 'OUT045':45, 'OUT018':18, 'OUT017':17, 'OUT010':10, 'OUT019':19}\n",
    "outlet_mapping = {'High': 1, 'Medium': 2, 'Small': 3}\n",
    "Location_mapping = {'Tier 1': 1, 'Tier 2': 2, 'Tier 3': 3}\n",
    "Type_mapping = {'Supermarket Type1': 1, 'Supermarket Type2': 2, 'Supermarket Type3': 3, 'Grocery Store':4}\n",
    "for dataset in combine:\n",
    "    dataset['Item_Fat_Content'] = dataset['Item_Fat_Content'].map(content_mapping)\n",
    "    dataset['Item_Fat_Content'] = dataset['Item_Fat_Content'].fillna(0)\n",
    "    dataset['Item_Type'] = dataset['Item_Type'].map(item_mapping)\n",
    "    dataset['Item_Type'] = dataset['Item_Type'].fillna(0)\n",
    "    dataset['Outlet_Size'] = dataset['Outlet_Size'].map(outlet_mapping)\n",
    "    dataset['Outlet_Size'] = dataset['Outlet_Size'].fillna(0) \n",
    "    dataset['Outlet_Identifier'] = dataset['Outlet_Identifier'].map(outletIdentifier_mapping)\n",
    "    dataset['Outlet_Identifier'] = dataset['Outlet_Identifier'].fillna(0)\n",
    "    dataset['Outlet_Location_Type'] = dataset['Outlet_Location_Type'].map(Location_mapping)\n",
    "    dataset['Outlet_Location_Type'] = dataset['Outlet_Location_Type'].fillna(0)\n",
    "    dataset['Outlet_Type'] = dataset['Outlet_Type'].map(Type_mapping)\n",
    "    dataset['Outlet_Type'] = dataset['Outlet_Type'].fillna(0)\n",
    "\n",
    "train.head()\n",
    "test.head()"
   ]
  },
  {
   "cell_type": "markdown",
   "metadata": {
    "_cell_guid": "45e65f95-3ae2-4a06-920e-6f1b4eed0e34",
    "_uuid": "7898138442139d61bae856d96124981ed6a21c83"
   },
   "source": [
    "Thus, through mapping, we have converted all except Item_Identifier into numeric data. Let's use cat.codes accessor to convert Item_Identifier into numeric data. But cat.codes works only on category datatype, so we'll first convert Item_Identifier into a category type and then use cat.codes to convert the last categorical feature to numeric."
   ]
  },
  {
   "cell_type": "code",
   "execution_count": 11,
   "metadata": {
    "_cell_guid": "00abe809-35d1-4d89-947e-e82536b4004d",
    "_uuid": "0cc6e511fc00519d09ab5142d4a132c8d995627d"
   },
   "outputs": [
    {
     "data": {
      "text/plain": [
       "Item_Identifier              category\n",
       "Item_Weight                   float64\n",
       "Item_Fat_Content                int64\n",
       "Item_Visibility               float64\n",
       "Item_Type                       int64\n",
       "Item_MRP                      float64\n",
       "Outlet_Identifier               int64\n",
       "Outlet_Establishment_Year       int64\n",
       "Outlet_Size                   float64\n",
       "Outlet_Location_Type            int64\n",
       "Outlet_Type                     int64\n",
       "Item_Outlet_Sales             float64\n",
       "dtype: object"
      ]
     },
     "execution_count": 11,
     "metadata": {},
     "output_type": "execute_result"
    }
   ],
   "source": [
    "train[\"Item_Identifier\"] = train[\"Item_Identifier\"].astype('category')\n",
    "train.dtypes"
   ]
  },
  {
   "cell_type": "code",
   "execution_count": 12,
   "metadata": {
    "_cell_guid": "91c14929-68eb-4c40-8d4a-a9568f668480",
    "_uuid": "1aae358ce5ef4fab1c596be69a47e98ea8a9ae21"
   },
   "outputs": [
    {
     "data": {
      "text/html": [
       "<div>\n",
       "<style>\n",
       "    .dataframe thead tr:only-child th {\n",
       "        text-align: right;\n",
       "    }\n",
       "\n",
       "    .dataframe thead th {\n",
       "        text-align: left;\n",
       "    }\n",
       "\n",
       "    .dataframe tbody tr th {\n",
       "        vertical-align: top;\n",
       "    }\n",
       "</style>\n",
       "<table border=\"1\" class=\"dataframe\">\n",
       "  <thead>\n",
       "    <tr style=\"text-align: right;\">\n",
       "      <th></th>\n",
       "      <th>Item_Identifier</th>\n",
       "      <th>Item_Weight</th>\n",
       "      <th>Item_Fat_Content</th>\n",
       "      <th>Item_Visibility</th>\n",
       "      <th>Item_Type</th>\n",
       "      <th>Item_MRP</th>\n",
       "      <th>Outlet_Identifier</th>\n",
       "      <th>Outlet_Establishment_Year</th>\n",
       "      <th>Outlet_Size</th>\n",
       "      <th>Outlet_Location_Type</th>\n",
       "      <th>Outlet_Type</th>\n",
       "      <th>Item_Outlet_Sales</th>\n",
       "    </tr>\n",
       "  </thead>\n",
       "  <tbody>\n",
       "    <tr>\n",
       "      <th>0</th>\n",
       "      <td>156</td>\n",
       "      <td>9.30</td>\n",
       "      <td>1</td>\n",
       "      <td>0.016047</td>\n",
       "      <td>5</td>\n",
       "      <td>249.8092</td>\n",
       "      <td>49</td>\n",
       "      <td>1999</td>\n",
       "      <td>2.0</td>\n",
       "      <td>1</td>\n",
       "      <td>1</td>\n",
       "      <td>3735.1380</td>\n",
       "    </tr>\n",
       "    <tr>\n",
       "      <th>1</th>\n",
       "      <td>8</td>\n",
       "      <td>5.92</td>\n",
       "      <td>2</td>\n",
       "      <td>0.019278</td>\n",
       "      <td>9</td>\n",
       "      <td>48.2692</td>\n",
       "      <td>18</td>\n",
       "      <td>2009</td>\n",
       "      <td>2.0</td>\n",
       "      <td>3</td>\n",
       "      <td>2</td>\n",
       "      <td>443.4228</td>\n",
       "    </tr>\n",
       "    <tr>\n",
       "      <th>2</th>\n",
       "      <td>662</td>\n",
       "      <td>17.50</td>\n",
       "      <td>1</td>\n",
       "      <td>0.016760</td>\n",
       "      <td>10</td>\n",
       "      <td>141.6180</td>\n",
       "      <td>49</td>\n",
       "      <td>1999</td>\n",
       "      <td>2.0</td>\n",
       "      <td>1</td>\n",
       "      <td>1</td>\n",
       "      <td>2097.2700</td>\n",
       "    </tr>\n",
       "    <tr>\n",
       "      <th>3</th>\n",
       "      <td>1121</td>\n",
       "      <td>19.20</td>\n",
       "      <td>2</td>\n",
       "      <td>0.000000</td>\n",
       "      <td>1</td>\n",
       "      <td>182.0950</td>\n",
       "      <td>10</td>\n",
       "      <td>1998</td>\n",
       "      <td>0.0</td>\n",
       "      <td>3</td>\n",
       "      <td>4</td>\n",
       "      <td>732.3800</td>\n",
       "    </tr>\n",
       "    <tr>\n",
       "      <th>4</th>\n",
       "      <td>1297</td>\n",
       "      <td>8.93</td>\n",
       "      <td>1</td>\n",
       "      <td>0.000000</td>\n",
       "      <td>3</td>\n",
       "      <td>53.8614</td>\n",
       "      <td>13</td>\n",
       "      <td>1987</td>\n",
       "      <td>1.0</td>\n",
       "      <td>3</td>\n",
       "      <td>1</td>\n",
       "      <td>994.7052</td>\n",
       "    </tr>\n",
       "  </tbody>\n",
       "</table>\n",
       "</div>"
      ],
      "text/plain": [
       "   Item_Identifier  Item_Weight  Item_Fat_Content  Item_Visibility  Item_Type  \\\n",
       "0              156         9.30                 1         0.016047          5   \n",
       "1                8         5.92                 2         0.019278          9   \n",
       "2              662        17.50                 1         0.016760         10   \n",
       "3             1121        19.20                 2         0.000000          1   \n",
       "4             1297         8.93                 1         0.000000          3   \n",
       "\n",
       "   Item_MRP  Outlet_Identifier  Outlet_Establishment_Year  Outlet_Size  \\\n",
       "0  249.8092                 49                       1999          2.0   \n",
       "1   48.2692                 18                       2009          2.0   \n",
       "2  141.6180                 49                       1999          2.0   \n",
       "3  182.0950                 10                       1998          0.0   \n",
       "4   53.8614                 13                       1987          1.0   \n",
       "\n",
       "   Outlet_Location_Type  Outlet_Type  Item_Outlet_Sales  \n",
       "0                     1            1          3735.1380  \n",
       "1                     3            2           443.4228  \n",
       "2                     1            1          2097.2700  \n",
       "3                     3            4           732.3800  \n",
       "4                     3            1           994.7052  "
      ]
     },
     "execution_count": 12,
     "metadata": {},
     "output_type": "execute_result"
    }
   ],
   "source": [
    "#converting categorical data to numeric.\n",
    "train[\"Item_Identifier\"] = train[\"Item_Identifier\"].cat.codes\n",
    "train.head()"
   ]
  },
  {
   "cell_type": "code",
   "execution_count": 13,
   "metadata": {
    "_cell_guid": "cdb7addd-9e6a-4f9e-bacb-6e079d0795fe",
    "_uuid": "432cd32d94bbf7b7f3cb3f968ea7716e51e78cae"
   },
   "outputs": [
    {
     "data": {
      "text/plain": [
       "Item_Identifier              category\n",
       "Item_Weight                   float64\n",
       "Item_Fat_Content                int64\n",
       "Item_Visibility               float64\n",
       "Item_Type                       int64\n",
       "Item_MRP                      float64\n",
       "Outlet_Identifier               int64\n",
       "Outlet_Establishment_Year       int64\n",
       "Outlet_Size                   float64\n",
       "Outlet_Location_Type            int64\n",
       "Outlet_Type                     int64\n",
       "dtype: object"
      ]
     },
     "execution_count": 13,
     "metadata": {},
     "output_type": "execute_result"
    }
   ],
   "source": [
    "test[\"Item_Identifier\"] = test[\"Item_Identifier\"].astype('category')\n",
    "test.dtypes"
   ]
  },
  {
   "cell_type": "code",
   "execution_count": 14,
   "metadata": {
    "_cell_guid": "a5b8ac61-f5de-4814-9fd6-cb476e4edf05",
    "_uuid": "799d6eeefb8b849d800cb846ac3a0511bdb69618"
   },
   "outputs": [
    {
     "data": {
      "text/html": [
       "<div>\n",
       "<style>\n",
       "    .dataframe thead tr:only-child th {\n",
       "        text-align: right;\n",
       "    }\n",
       "\n",
       "    .dataframe thead th {\n",
       "        text-align: left;\n",
       "    }\n",
       "\n",
       "    .dataframe tbody tr th {\n",
       "        vertical-align: top;\n",
       "    }\n",
       "</style>\n",
       "<table border=\"1\" class=\"dataframe\">\n",
       "  <thead>\n",
       "    <tr style=\"text-align: right;\">\n",
       "      <th></th>\n",
       "      <th>Item_Identifier</th>\n",
       "      <th>Item_Weight</th>\n",
       "      <th>Item_Fat_Content</th>\n",
       "      <th>Item_Visibility</th>\n",
       "      <th>Item_Type</th>\n",
       "      <th>Item_MRP</th>\n",
       "      <th>Outlet_Identifier</th>\n",
       "      <th>Outlet_Establishment_Year</th>\n",
       "      <th>Outlet_Size</th>\n",
       "      <th>Outlet_Location_Type</th>\n",
       "      <th>Outlet_Type</th>\n",
       "    </tr>\n",
       "  </thead>\n",
       "  <tbody>\n",
       "    <tr>\n",
       "      <th>0</th>\n",
       "      <td>1103</td>\n",
       "      <td>20.750</td>\n",
       "      <td>1</td>\n",
       "      <td>0.007565</td>\n",
       "      <td>2</td>\n",
       "      <td>107.8622</td>\n",
       "      <td>49</td>\n",
       "      <td>1999</td>\n",
       "      <td>2.0</td>\n",
       "      <td>1</td>\n",
       "      <td>1</td>\n",
       "    </tr>\n",
       "    <tr>\n",
       "      <th>1</th>\n",
       "      <td>1067</td>\n",
       "      <td>8.300</td>\n",
       "      <td>4</td>\n",
       "      <td>0.038428</td>\n",
       "      <td>5</td>\n",
       "      <td>87.3198</td>\n",
       "      <td>17</td>\n",
       "      <td>2007</td>\n",
       "      <td>0.0</td>\n",
       "      <td>2</td>\n",
       "      <td>1</td>\n",
       "    </tr>\n",
       "    <tr>\n",
       "      <th>2</th>\n",
       "      <td>1406</td>\n",
       "      <td>14.600</td>\n",
       "      <td>1</td>\n",
       "      <td>0.099575</td>\n",
       "      <td>13</td>\n",
       "      <td>241.7538</td>\n",
       "      <td>10</td>\n",
       "      <td>1998</td>\n",
       "      <td>0.0</td>\n",
       "      <td>3</td>\n",
       "      <td>4</td>\n",
       "    </tr>\n",
       "    <tr>\n",
       "      <th>3</th>\n",
       "      <td>809</td>\n",
       "      <td>7.315</td>\n",
       "      <td>1</td>\n",
       "      <td>0.015388</td>\n",
       "      <td>2</td>\n",
       "      <td>155.0340</td>\n",
       "      <td>17</td>\n",
       "      <td>2007</td>\n",
       "      <td>0.0</td>\n",
       "      <td>2</td>\n",
       "      <td>1</td>\n",
       "    </tr>\n",
       "    <tr>\n",
       "      <th>4</th>\n",
       "      <td>1184</td>\n",
       "      <td>NaN</td>\n",
       "      <td>2</td>\n",
       "      <td>0.118599</td>\n",
       "      <td>5</td>\n",
       "      <td>234.2300</td>\n",
       "      <td>27</td>\n",
       "      <td>1985</td>\n",
       "      <td>2.0</td>\n",
       "      <td>3</td>\n",
       "      <td>3</td>\n",
       "    </tr>\n",
       "  </tbody>\n",
       "</table>\n",
       "</div>"
      ],
      "text/plain": [
       "   Item_Identifier  Item_Weight  Item_Fat_Content  Item_Visibility  Item_Type  \\\n",
       "0             1103       20.750                 1         0.007565          2   \n",
       "1             1067        8.300                 4         0.038428          5   \n",
       "2             1406       14.600                 1         0.099575         13   \n",
       "3              809        7.315                 1         0.015388          2   \n",
       "4             1184          NaN                 2         0.118599          5   \n",
       "\n",
       "   Item_MRP  Outlet_Identifier  Outlet_Establishment_Year  Outlet_Size  \\\n",
       "0  107.8622                 49                       1999          2.0   \n",
       "1   87.3198                 17                       2007          0.0   \n",
       "2  241.7538                 10                       1998          0.0   \n",
       "3  155.0340                 17                       2007          0.0   \n",
       "4  234.2300                 27                       1985          2.0   \n",
       "\n",
       "   Outlet_Location_Type  Outlet_Type  \n",
       "0                     1            1  \n",
       "1                     2            1  \n",
       "2                     3            4  \n",
       "3                     2            1  \n",
       "4                     3            3  "
      ]
     },
     "execution_count": 14,
     "metadata": {},
     "output_type": "execute_result"
    }
   ],
   "source": [
    "#converting categorical data to numeric.\n",
    "test[\"Item_Identifier\"] = test[\"Item_Identifier\"].cat.codes\n",
    "test.head()"
   ]
  },
  {
   "cell_type": "markdown",
   "metadata": {
    "_cell_guid": "f38b707b-082f-4495-8c20-6ce523ca5c20",
    "_uuid": "39689333143eed0977fbf5a65024f043c66f717f"
   },
   "source": [
    "Thus, we have successfully converted all the catagorical features into numeric. Now it's time to find correlation between various features."
   ]
  },
  {
   "cell_type": "code",
   "execution_count": 15,
   "metadata": {
    "_cell_guid": "a7f1d6ec-eaf4-4466-9d83-3be12475211f",
    "_uuid": "5f677fbd4e04e12fccdee3cf97ba698837606052",
    "collapsed": true
   },
   "outputs": [
    {
     "data": {
      "image/png": "[encoded data removed]",
      "text/plain": [
       "<matplotlib.figure.Figure at 0x7f684642df98>"
      ]
     },
     "metadata": {},
     "output_type": "display_data"
    }
   ],
   "source": [
    "#Overall Correlation\n",
    "import seaborn as sns\n",
    "import matplotlib.pyplot as plt\n",
    "sns.heatmap(train.corr(),annot=True)\n",
    "plt.show()"
   ]
  },
  {
   "cell_type": "markdown",
   "metadata": {
    "_cell_guid": "d3582bc9-d64b-4f09-80cc-19b38f0b831b",
    "_uuid": "4b6bd8b0c7c44085747396d5e66261b04ee43be9",
    "collapsed": true
   },
   "source": [
    "From above heatmap, we conclude that Outlet_Size as a positive correlation with Outlet Identifier."
   ]
  },
  {
   "cell_type": "code",
   "execution_count": 16,
   "metadata": {
    "_cell_guid": "1ec093e3-c748-489e-a207-2a64002c6bca",
    "_uuid": "d0b003636cb1a410ea5c243c0d9e8c1bb9de06e2",
    "collapsed": true
   },
   "outputs": [
    {
     "data": {
      "text/html": [
       "<div>\n",
       "<style>\n",
       "    .dataframe thead tr:only-child th {\n",
       "        text-align: right;\n",
       "    }\n",
       "\n",
       "    .dataframe thead th {\n",
       "        text-align: left;\n",
       "    }\n",
       "\n",
       "    .dataframe tbody tr th {\n",
       "        vertical-align: top;\n",
       "    }\n",
       "</style>\n",
       "<table border=\"1\" class=\"dataframe\">\n",
       "  <thead>\n",
       "    <tr style=\"text-align: right;\">\n",
       "      <th>Outlet_Identifier</th>\n",
       "      <th>10</th>\n",
       "      <th>13</th>\n",
       "      <th>17</th>\n",
       "      <th>18</th>\n",
       "      <th>19</th>\n",
       "      <th>27</th>\n",
       "      <th>35</th>\n",
       "      <th>45</th>\n",
       "      <th>46</th>\n",
       "      <th>49</th>\n",
       "    </tr>\n",
       "    <tr>\n",
       "      <th>Outlet_Size</th>\n",
       "      <th></th>\n",
       "      <th></th>\n",
       "      <th></th>\n",
       "      <th></th>\n",
       "      <th></th>\n",
       "      <th></th>\n",
       "      <th></th>\n",
       "      <th></th>\n",
       "      <th></th>\n",
       "      <th></th>\n",
       "    </tr>\n",
       "  </thead>\n",
       "  <tbody>\n",
       "    <tr>\n",
       "      <th>0.0</th>\n",
       "      <td>555</td>\n",
       "      <td>0</td>\n",
       "      <td>926</td>\n",
       "      <td>0</td>\n",
       "      <td>0</td>\n",
       "      <td>0</td>\n",
       "      <td>0</td>\n",
       "      <td>929</td>\n",
       "      <td>0</td>\n",
       "      <td>0</td>\n",
       "    </tr>\n",
       "    <tr>\n",
       "      <th>1.0</th>\n",
       "      <td>0</td>\n",
       "      <td>932</td>\n",
       "      <td>0</td>\n",
       "      <td>0</td>\n",
       "      <td>0</td>\n",
       "      <td>0</td>\n",
       "      <td>0</td>\n",
       "      <td>0</td>\n",
       "      <td>0</td>\n",
       "      <td>0</td>\n",
       "    </tr>\n",
       "    <tr>\n",
       "      <th>2.0</th>\n",
       "      <td>0</td>\n",
       "      <td>0</td>\n",
       "      <td>0</td>\n",
       "      <td>928</td>\n",
       "      <td>0</td>\n",
       "      <td>935</td>\n",
       "      <td>0</td>\n",
       "      <td>0</td>\n",
       "      <td>0</td>\n",
       "      <td>930</td>\n",
       "    </tr>\n",
       "    <tr>\n",
       "      <th>3.0</th>\n",
       "      <td>0</td>\n",
       "      <td>0</td>\n",
       "      <td>0</td>\n",
       "      <td>0</td>\n",
       "      <td>528</td>\n",
       "      <td>0</td>\n",
       "      <td>930</td>\n",
       "      <td>0</td>\n",
       "      <td>930</td>\n",
       "      <td>0</td>\n",
       "    </tr>\n",
       "  </tbody>\n",
       "</table>\n",
       "</div>"
      ],
      "text/plain": [
       "Outlet_Identifier   10   13   17   18   19   27   35   45   46   49\n",
       "Outlet_Size                                                        \n",
       "0.0                555    0  926    0    0    0    0  929    0    0\n",
       "1.0                  0  932    0    0    0    0    0    0    0    0\n",
       "2.0                  0    0    0  928    0  935    0    0    0  930\n",
       "3.0                  0    0    0    0  528    0  930    0  930    0"
      ]
     },
     "execution_count": 16,
     "metadata": {},
     "output_type": "execute_result"
    }
   ],
   "source": [
    "pd.crosstab(train['Outlet_Size'], train['Outlet_Identifier'])"
   ]
  },
  {
   "cell_type": "markdown",
   "metadata": {
    "_cell_guid": "ee8b751f-8d96-48cc-bbbc-3a7a0122b988",
    "_uuid": "b08cd33590211f0b1a8d3a8afb02419a3ac14c62",
    "collapsed": true
   },
   "source": [
    "from above,if table, we can safely conclude that, outlet_identifier=10,17,45, outlet_size=0\n",
    "if 13 1\n",
    "if 18,27,49 2\n",
    "if 19,35,46 3\n",
    "so, we fill the missing values acordingly"
   ]
  },
  {
   "cell_type": "code",
   "execution_count": 17,
   "metadata": {
    "_cell_guid": "910eff8f-4bee-485d-94fb-e2470a19ec88",
    "_uuid": "2883b3ee8cc34567816a5736d3dc880cd2295b9a",
    "collapsed": true
   },
   "outputs": [],
   "source": [
    "for row in train.itertuples(index=True, name='Pandas'):\n",
    "    if row[9] is None:\n",
    "        if(row[7]==10 or row[7]==17 or row[7]==45):\n",
    "            train.loc[row.Index, 'Outlet_Size'] = 0\n",
    "    else:\n",
    "        if(row[7]==13):\n",
    "            train.loc[row.Index, 'Outlet_Size'] =1\n",
    "        else:\n",
    "            if(row[7]==18 or row[7]==27 or row[7]==49):\n",
    "                train.loc[row.Index, 'Outlet_Size'] =2\n",
    "            else:\n",
    "                if(row[7]==19 or row[7]==35 or row[7]==46):\n",
    "                    train.loc[row.Index, 'Outlet_Size'] =3"
   ]
  },
  {
   "cell_type": "code",
   "execution_count": 18,
   "metadata": {
    "_cell_guid": "4a3ab0db-3192-4a54-8bfc-28a0068cf3d1",
    "_uuid": "df2d6ab2ddfefa3698c6b7ffcd34f00948119bb9",
    "collapsed": true
   },
   "outputs": [],
   "source": [
    "for row in test.itertuples(index=True, name='Pandas'):\n",
    "    if row[9] is None:\n",
    "        if(row[7]==10 or row[7]==17 or row[7]==45):\n",
    "            test.loc[row.Index, 'Outlet_Size'] = 0\n",
    "    else:\n",
    "        if(row[7]==13):\n",
    "            test.loc[row.Index, 'Outlet_Size'] =1\n",
    "        else:\n",
    "            if(row[7]==18 or row[7]==27 or row[7]==49):\n",
    "                test.loc[row.Index, 'Outlet_Size'] =2\n",
    "            else:\n",
    "                if(row[7]==19 or row[7]==35 or row[7]==46):\n",
    "                    test.loc[row.Index, 'Outlet_Size'] =3"
   ]
  },
  {
   "cell_type": "markdown",
   "metadata": {
    "_cell_guid": "b93b84be-d84a-48f8-a304-fba1a6c86c6c",
    "_uuid": "2658df78f01160eb62415f81ec1145f43ed5e3a3"
   },
   "source": [
    "Now, having filled the Outlet_size column, we are left with Item_Weight. From the heatmap, we see that Item_weight don't really have any positive relation with any of other feature, so let's fill it's missing values with the median value of each column."
   ]
  },
  {
   "cell_type": "code",
   "execution_count": 19,
   "metadata": {
    "_cell_guid": "0ee49f04-81dc-4221-863b-45d49b9a8b8a",
    "_uuid": "023352c5f2a22dd73c11978c1a922063dac804ba",
    "collapsed": true
   },
   "outputs": [],
   "source": [
    "train['Item_Weight'].fillna(train['Item_Weight'].dropna().median(), inplace=True)"
   ]
  },
  {
   "cell_type": "code",
   "execution_count": 20,
   "metadata": {
    "_cell_guid": "723ed622-a272-44f4-bc27-b005c364f1c6",
    "_uuid": "978efa638067f7fcddeaceb9149c5efff1f25749",
    "collapsed": true
   },
   "outputs": [],
   "source": [
    "test['Item_Weight'].fillna(test['Item_Weight'].dropna().median(), inplace=True)"
   ]
  },
  {
   "cell_type": "markdown",
   "metadata": {
    "_cell_guid": "5d343cf1-8d21-4cd1-ad01-43e22372e1c3",
    "_uuid": "bbb52d285ee47ee7c9fa65d3f3ae10af289c1e32"
   },
   "source": [
    "Now, having dealt with the catagorical values and the missing values, now we are left with scaling the dataset to carry out our PCA algorithm. We have PCA method in python in sklearn to carry it out implicitly, but there we have implemented PCA algorithm from scratch to understand the working of PCA algorithm. It requires som background knowledge of Linear algebra"
   ]
  },
  {
   "cell_type": "code",
   "execution_count": 21,
   "metadata": {
    "_cell_guid": "c38706c2-8e8c-4f95-873a-95262f5fae54",
    "_uuid": "fa5ff04ccf100e10d8d268916b936657d6affdaf",
    "collapsed": true
   },
   "outputs": [],
   "source": [
    "import sklearn.preprocessing as preprocess\n",
    "X_train = preprocess.scale(train)\n",
    "X_test = preprocess.scale(test)"
   ]
  },
  {
   "cell_type": "markdown",
   "metadata": {
    "_cell_guid": "bb96f2be-4b51-4086-80e0-d780e3bb4881",
    "_uuid": "61e1c26e0771dde9e526bec1cff080d41d76f799",
    "collapsed": true
   },
   "source": [
    "**PCA Algorithm.**"
   ]
  },
  {
   "cell_type": "markdown",
   "metadata": {
    "_cell_guid": "23c4923d-0b8c-4c94-bb91-c7b58091440e",
    "_uuid": "9b83a75bb819c5e0a2c0de730e7c198aba062d4a"
   },
   "source": [
    "After having dealt with the missing values and categorical values, it's time to train a model with our data. But before that, let's learn about an useful algorithm, PCA which helps us in data visualization and dimentionality reduction. "
   ]
  },
  {
   "cell_type": "markdown",
   "metadata": {
    "_cell_guid": "d1a7f166-5012-414b-aaaa-87fa3d0066f2",
    "_uuid": "f2629a0d5d1b9c9d3315a44a24c13b583803746d"
   },
   "source": [
    "PCA algorithm aims to provide a mention for better visualization of data, finding correlation between features and in dimensionality reduction by finding out the most significant in describing the full dataset."
   ]
  },
  {
   "cell_type": "markdown",
   "metadata": {
    "_cell_guid": "f14975f0-1ed6-46fe-9314-f95fefda3f0c",
    "_uuid": "1b1c86087dd5b457ed457c242c94720360f3d199"
   },
   "source": [
    "Ours is a 11 dimenional data. OUt of the 12, 11 are features and one is ouyput variable."
   ]
  },
  {
   "cell_type": "markdown",
   "metadata": {
    "_cell_guid": "ab827d9d-b82c-4b70-8f70-10cd3bfcdb3e",
    "_uuid": "ef7cc64142933072fafc25ffb96fbb84264c204d"
   },
   "source": [
    "Let's find the mean of each feature which are actually the dimensions of the dataset."
   ]
  },
  {
   "cell_type": "code",
   "execution_count": 22,
   "metadata": {
    "_cell_guid": "83ed1499-aa91-4295-ad09-1155f297e503",
    "_uuid": "c562441fbc65efad376a821785a2e711b38be8ba"
   },
   "outputs": [
    {
     "name": "stdout",
     "output_type": "stream",
     "text": [
      "779.714889124\n",
      "12.813419570574444\n",
      "1.5068637803590286\n",
      "0.06613202877895127\n",
      "5.433884782353632\n",
      "140.9927819781768\n",
      "29.108764519535374\n",
      "1997.8318667135984\n",
      "1.6053032969611638\n",
      "2.1128710547929135\n",
      "5.433884782353632\n"
     ]
    }
   ],
   "source": [
    "mean_Identifier = train[\"Item_Identifier\"].mean()\n",
    "mean_Weight = train[\"Item_Weight\"].mean()\n",
    "mean_Fat_Content = train[\"Item_Fat_Content\"].mean()\n",
    "mean_Visibility = train[\"Item_Visibility\"].mean()\n",
    "mean_Type = train[\"Item_Type\"].mean()\n",
    "mean_MRP = train[\"Item_MRP\"].mean()\n",
    "mean_OIdentifier = train[\"Outlet_Identifier\"].mean()\n",
    "mean_Year = train[\"Outlet_Establishment_Year\"].mean()\n",
    "mean_Size = train[\"Outlet_Size\"].mean()\n",
    "mean_Location = train[\"Outlet_Location_Type\"].mean()\n",
    "mean_Type = train[\"Item_Type\"].mean()\n",
    "\n",
    "print(mean_Identifier)\n",
    "print(mean_Weight)\n",
    "print(mean_Fat_Content)\n",
    "print(mean_Visibility)\n",
    "print(mean_Type)\n",
    "print(mean_MRP)\n",
    "print(mean_OIdentifier)\n",
    "print(mean_Year)\n",
    "print(mean_Size)\n",
    "print(mean_Location)\n",
    "print(mean_Type)"
   ]
  },
  {
   "cell_type": "code",
   "execution_count": 23,
   "metadata": {
    "_cell_guid": "1f25ee37-64cd-4654-8776-b94bdcfc4130",
    "_uuid": "e6bc27de3ca51963618dc3b835527e6cb4fb3cd0"
   },
   "outputs": [
    {
     "name": "stdout",
     "output_type": "stream",
     "text": [
      "Mean Vector:\n",
      " [[  7.79714889e+02   1.28134196e+01   1.50686378e+00   6.61320288e-02\n",
      "    5.43388478e+00   1.40992782e+02   2.91087645e+01   1.99783187e+03\n",
      "    1.60530330e+00   2.11287105e+00   5.43388478e+00]]\n"
     ]
    },
    {
     "data": {
      "text/plain": [
       "(1, 11)"
      ]
     },
     "execution_count": 23,
     "metadata": {},
     "output_type": "execute_result"
    }
   ],
   "source": [
    "mean_vector = np.array([[mean_Identifier,mean_Weight,mean_Fat_Content,mean_Visibility,mean_Type,mean_MRP,mean_OIdentifier,mean_Year,mean_Size,mean_Location,mean_Type]])\n",
    "print('Mean Vector:\\n', mean_vector)\n",
    "mean_vector.shape"
   ]
  },
  {
   "cell_type": "code",
   "execution_count": 24,
   "metadata": {
    "_cell_guid": "49797432-80a8-477f-a441-aa65be9f205d",
    "_uuid": "708fe7fb0b5a4162adc6664f94937defca4b61a4",
    "collapsed": true
   },
   "outputs": [],
   "source": [
    "X_train=np.array(train.drop(\"Item_Outlet_Sales\", axis=1))"
   ]
  },
  {
   "cell_type": "code",
   "execution_count": 25,
   "metadata": {
    "_cell_guid": "8840ca9b-9984-405f-81da-16efab525869",
    "_uuid": "82deec0c11b83a000f5395f3e87df43564abafe3"
   },
   "outputs": [
    {
     "name": "stdout",
     "output_type": "stream",
     "text": [
      "Scatter Matrix:\n",
      " [[  1.71974594e+09   7.15576570e+05  -1.96104321e+05  -5.03350661e+03\n",
      "   -1.50783366e+06   3.06422107e+06  -5.17498702e+05  -4.09327564e+05\n",
      "    3.14788701e+03   1.13752767e+04   7.68920655e+04]\n",
      " [  7.15576570e+05   1.52284403e+05  -4.98497545e+02  -2.63344580e+01\n",
      "   -6.73072557e+03   5.59748550e+04  -2.72013994e+03   2.33400024e+03\n",
      "   -5.94365646e+01   5.73353731e+01  -5.15483143e+02]\n",
      " [ -1.96104321e+05  -4.98497545e+02   4.80834847e+03   9.93551199e+00\n",
      "   -6.26382260e+02  -3.82851015e+03  -1.57586272e+03  -3.45664203e+02\n",
      "    1.08975713e+00   4.23970433e+01   7.69947202e+01]\n",
      " [ -5.03350661e+03  -2.63344580e+01   9.93551199e+00   2.26884212e+01\n",
      "   -8.84465585e+00  -3.60049875e+01  -6.84614937e+02  -2.75477273e+02\n",
      "   -1.59644091e+00  -1.00421733e+01   1.07028224e+02]\n",
      " [ -1.50783366e+06  -6.73072557e+03  -6.26382260e+02  -8.84465585e+00\n",
      "    1.20139494e+05  -1.10845260e+05  -1.47121119e+03   4.07568931e+01\n",
      "   -6.34115922e+01  -5.73971606e+01   3.36298721e+02]\n",
      " [  3.06422107e+06   5.59748550e+04  -3.82851015e+03  -3.60049875e+01\n",
      "   -1.10845260e+05   3.30498833e+07   3.00199435e+04   2.23032928e+04\n",
      "    5.15896377e+03   1.00158937e+02  -3.85879002e+03]\n",
      " [ -5.17498702e+05  -2.72013994e+03  -1.57586272e+03  -6.84614937e+02\n",
      "   -1.47121119e+03   3.00199435e+04   1.65309218e+06   1.40567860e+05\n",
      "    4.49738838e+04  -6.67696315e+04  -6.20806990e+04]\n",
      " [ -4.09327564e+05   2.33400024e+03  -3.45664203e+02  -2.75477273e+02\n",
      "    4.07568931e+01   2.23032928e+04   1.40567860e+05   5.97276065e+05\n",
      "   -1.66276004e+04  -5.17325578e+03  -3.36772980e+04]\n",
      " [  3.14788701e+03  -5.94365646e+01   1.08975713e+00  -1.59644091e+00\n",
      "   -6.34115922e+01   5.15896377e+03   4.49738838e+04  -1.66276004e+04\n",
      "    1.16322403e+04  -3.12030177e+03   6.40730963e+02]\n",
      " [  1.13752767e+04   5.73353731e+01   4.23970433e+01  -1.00421733e+01\n",
      "   -5.73971606e+01   1.00158937e+02  -6.67696315e+04  -5.17325578e+03\n",
      "   -3.12030177e+03   5.62941805e+03   2.19646873e+03]\n",
      " [  7.68920655e+04  -5.15483143e+02   7.69947202e+01   1.07028224e+02\n",
      "    3.36298721e+02  -3.85879002e+03  -6.20806990e+04  -3.36772980e+04\n",
      "    6.40730963e+02   2.19646873e+03   1.28348103e+05]]\n"
     ]
    }
   ],
   "source": [
    "scatter_matrix = np.zeros((11,11))\n",
    "for i in range(X_train.shape[0]):\n",
    "    scatter_matrix += ((X_train[i,:].reshape(1,11) - mean_vector).T).dot(X_train[i,:].reshape(1,11)- mean_vector)\n",
    "    #print(i)\n",
    "print('Scatter Matrix:\\n', scatter_matrix)"
   ]
  },
  {
   "cell_type": "code",
   "execution_count": 26,
   "metadata": {
    "_cell_guid": "882b40e2-9f11-4f9f-a823-17e0d98e43bf",
    "_uuid": "b2eb2ec921cfe3e71589265ffd5174dcfc0e5a84"
   },
   "outputs": [
    {
     "name": "stdout",
     "output_type": "stream",
     "text": [
      "Eigen Values:\n",
      " [  1.71975340e+09   3.30448112e+07   1.67784076e+06   5.81136308e+05\n",
      "   1.52904030e+05   1.17439287e+05   1.24139389e+05   9.88820542e+03\n",
      "   4.77649612e+03   2.17599967e+01   2.69248553e+03]\n",
      "Eigen Vectors:\n",
      " [[ -9.99997797e-01   1.81984854e-03  -3.32446006e-04   1.96825534e-04\n",
      "   -5.55590410e-04  -7.88177807e-04   3.26709789e-06   1.81490791e-06\n",
      "    1.19290426e-04   3.06410084e-06  -6.58815702e-06]\n",
      " [ -4.16191219e-04  -1.66278751e-03   1.43229938e-03   6.53912241e-03\n",
      "    9.85312099e-01  -1.68944354e-01  -2.36602867e-02   7.59332627e-04\n",
      "    3.10186126e-03   1.62419550e-04  -3.00430777e-04]\n",
      " [  1.14034076e-04   1.05090286e-04   9.97407719e-04  -3.11310237e-04\n",
      "   -1.81365224e-03   7.71728741e-03   2.44989126e-04  -8.11228319e-03\n",
      "    9.99904177e-01  -1.71121127e-03  -7.67324775e-03]\n",
      " [  2.92675032e-06   8.39721609e-07   4.28496943e-04  -3.27030163e-04\n",
      "   -1.46704218e-04   1.73133013e-04  -5.27334382e-04  -1.54770371e-03\n",
      "    1.79771727e-03   9.99910167e-01   1.31685412e-02]\n",
      " [  8.76950935e-04   3.28364142e-03   1.17808231e-03  -1.28404136e-04\n",
      "   -1.69636177e-01  -9.85009585e-01  -3.02043179e-02   1.73244279e-04\n",
      "    7.29365754e-03   1.30671138e-04  -1.08833346e-03]\n",
      " [ -1.81675126e-03  -9.99990799e-01   1.08254876e-03  -5.89204065e-04\n",
      "   -2.19508507e-03  -2.95172241e-03  -1.04235191e-04   1.41626575e-04\n",
      "    1.24497450e-04  -5.06660159e-07   6.26128338e-05]\n",
      " [  3.01192710e-04  -9.89978680e-04  -9.89504011e-01  -1.30747814e-01\n",
      "    1.38311459e-03  -2.98801357e-04  -3.44601025e-02   3.75570770e-02\n",
      "    1.00180001e-03   8.72838963e-04  -3.44085736e-02]\n",
      " [  2.38098838e-04  -7.14769650e-04  -1.29694924e-01   9.89031211e-01\n",
      "   -7.32676213e-03   2.84405774e-03  -6.09099886e-02  -3.45535533e-02\n",
      "    9.52578167e-05   3.63883358e-04  -5.48055826e-03]\n",
      " [ -1.83033559e-06  -1.56989274e-04  -2.54701433e-02  -3.93035028e-02\n",
      "    7.96201591e-04   1.17257960e-04  -1.05324794e-02  -9.82417708e-01\n",
      "   -9.33528137e-03   8.61592035e-04  -1.80173413e-01]\n",
      " [ -6.62709842e-06  -2.77712252e-07   4.00122545e-02   6.28398093e-03\n",
      "   -2.48115806e-04   1.04470418e-03   3.88112730e-03   1.79000884e-01\n",
      "   -6.11529892e-03   1.32193028e-02  -9.82898699e-01]\n",
      " [ -4.47255053e-05   1.24134993e-04   4.24903481e-02  -5.56296042e-02\n",
      "   -1.78579970e-02   3.37004408e-02  -9.96746718e-01   1.18666762e-02\n",
      "   -1.54710233e-05  -5.47287537e-04  -3.67584334e-04]]\n"
     ]
    }
   ],
   "source": [
    "#Computing eigenvectors and corresponding eigenvalues.\n",
    "# eigenvectors and eigenvalues for the from the scatter matrix\n",
    "eig_val_sc, eig_vec_sc = np.linalg.eig(scatter_matrix)\n",
    "\n",
    "print(\"Eigen Values:\\n\",eig_val_sc)\n",
    "print(\"Eigen Vectors:\\n\",eig_vec_sc)"
   ]
  },
  {
   "cell_type": "code",
   "execution_count": 27,
   "metadata": {
    "_cell_guid": "cef15c16-7d98-428c-95c2-903d498a3db5",
    "_uuid": "9ed1cf37f09b8331383b0bfb9655ea0570783c1e"
   },
   "outputs": [
    {
     "name": "stdout",
     "output_type": "stream",
     "text": [
      "Eigenvector 1: \n",
      "[[ -9.99997797e-01  -4.16191219e-04   1.14034076e-04   2.92675032e-06\n",
      "    8.76950935e-04  -1.81675126e-03   3.01192710e-04   2.38098838e-04\n",
      "   -1.83033559e-06  -6.62709842e-06  -4.47255053e-05]]\n",
      "Eigenvalue 1 from scatter matrix: 1719753403.4620564\n",
      "----------------------------------------\n",
      "Eigenvector 2: \n",
      "[[  1.81984854e-03  -1.66278751e-03   1.05090286e-04   8.39721609e-07\n",
      "    3.28364142e-03  -9.99990799e-01  -9.89978680e-04  -7.14769650e-04\n",
      "   -1.56989274e-04  -2.77712252e-07   1.24134993e-04]]\n",
      "Eigenvalue 2 from scatter matrix: 33044811.210930184\n",
      "----------------------------------------\n",
      "Eigenvector 3: \n",
      "[[ -3.32446006e-04   1.43229938e-03   9.97407719e-04   4.28496943e-04\n",
      "    1.17808231e-03   1.08254876e-03  -9.89504011e-01  -1.29694924e-01\n",
      "   -2.54701433e-02   4.00122545e-02   4.24903481e-02]]\n",
      "Eigenvalue 3 from scatter matrix: 1677840.755204927\n",
      "----------------------------------------\n",
      "Eigenvector 4: \n",
      "[[  1.96825534e-04   6.53912241e-03  -3.11310237e-04  -3.27030163e-04\n",
      "   -1.28404136e-04  -5.89204065e-04  -1.30747814e-01   9.89031211e-01\n",
      "   -3.93035028e-02   6.28398093e-03  -5.56296042e-02]]\n",
      "Eigenvalue 4 from scatter matrix: 581136.3076258233\n",
      "----------------------------------------\n",
      "Eigenvector 5: \n",
      "[[ -5.55590410e-04   9.85312099e-01  -1.81365224e-03  -1.46704218e-04\n",
      "   -1.69636177e-01  -2.19508507e-03   1.38311459e-03  -7.32676213e-03\n",
      "    7.96201591e-04  -2.48115806e-04  -1.78579970e-02]]\n",
      "Eigenvalue 5 from scatter matrix: 152904.03022598487\n",
      "----------------------------------------\n",
      "Eigenvector 6: \n",
      "[[ -7.88177807e-04  -1.68944354e-01   7.71728741e-03   1.73133013e-04\n",
      "   -9.85009585e-01  -2.95172241e-03  -2.98801357e-04   2.84405774e-03\n",
      "    1.17257960e-04   1.04470418e-03   3.37004408e-02]]\n",
      "Eigenvalue 6 from scatter matrix: 117439.28727702024\n",
      "----------------------------------------\n",
      "Eigenvector 7: \n",
      "[[  3.26709789e-06  -2.36602867e-02   2.44989126e-04  -5.27334382e-04\n",
      "   -3.02043179e-02  -1.04235191e-04  -3.44601025e-02  -6.09099886e-02\n",
      "   -1.05324794e-02   3.88112730e-03  -9.96746718e-01]]\n",
      "Eigenvalue 7 from scatter matrix: 124139.38918949643\n",
      "----------------------------------------\n",
      "Eigenvector 8: \n",
      "[[  1.81490791e-06   7.59332627e-04  -8.11228319e-03  -1.54770371e-03\n",
      "    1.73244279e-04   1.41626575e-04   3.75570770e-02  -3.45535533e-02\n",
      "   -9.82417708e-01   1.79000884e-01   1.18666762e-02]]\n",
      "Eigenvalue 8 from scatter matrix: 9888.205422036455\n",
      "----------------------------------------\n",
      "Eigenvector 9: \n",
      "[[  1.19290426e-04   3.10186126e-03   9.99904177e-01   1.79771727e-03\n",
      "    7.29365754e-03   1.24497450e-04   1.00180001e-03   9.52578167e-05\n",
      "   -9.33528137e-03  -6.11529892e-03  -1.54710233e-05]]\n",
      "Eigenvalue 9 from scatter matrix: 4776.496120823916\n",
      "----------------------------------------\n",
      "Eigenvector 10: \n",
      "[[  3.06410084e-06   1.62419550e-04  -1.71121127e-03   9.99910167e-01\n",
      "    1.30671138e-04  -5.06660159e-07   8.72838963e-04   3.63883358e-04\n",
      "    8.61592035e-04   1.32193028e-02  -5.47287537e-04]]\n",
      "Eigenvalue 10 from scatter matrix: 21.7599966801985\n",
      "----------------------------------------\n",
      "Eigenvector 11: \n",
      "[[ -6.58815702e-06  -3.00430777e-04  -7.67324775e-03   1.31685412e-02\n",
      "   -1.08833346e-03   6.26128338e-05  -3.44085736e-02  -5.48055826e-03\n",
      "   -1.80173413e-01  -9.82898699e-01  -3.67584334e-04]]\n",
      "Eigenvalue 11 from scatter matrix: 2692.485526186535\n",
      "----------------------------------------\n"
     ]
    }
   ],
   "source": [
    "for i in range(len(eig_val_sc)):\n",
    "    eigvec_sc = eig_vec_sc[:,i].reshape(11,1).T\n",
    "    \n",
    "    print('Eigenvector {}: \\n{}'.format(i+1, eigvec_sc))\n",
    "    print('Eigenvalue {} from scatter matrix: {}'.format(i+1, eig_val_sc[i]))\n",
    "    print(40 * '-')"
   ]
  },
  {
   "cell_type": "code",
   "execution_count": 28,
   "metadata": {
    "_cell_guid": "b79830e6-891d-495e-9036-1c8697585042",
    "_uuid": "8ead3da72eef8f36a5cae9c3bef9e58264cf46d1"
   },
   "outputs": [
    {
     "name": "stdout",
     "output_type": "stream",
     "text": [
      "1719753403.46\n",
      "33044811.2109\n",
      "1677840.7552\n",
      "581136.307626\n",
      "152904.030226\n",
      "124139.389189\n",
      "117439.287277\n",
      "9888.20542204\n",
      "4776.49612082\n",
      "2692.48552619\n",
      "21.7599966802\n"
     ]
    }
   ],
   "source": [
    "# Make a list of (eigenvalue, eigenvector) tuples\n",
    "eig_pairs = [(np.abs(eig_val_sc[i]), eig_vec_sc[:,i]) for i in range(len(eig_val_sc))]\n",
    "\n",
    "# Sort the (eigenvalue, eigenvector) tuples from high to low\n",
    "eig_pairs.sort(key=lambda x: x[0], reverse=True)\n",
    "\n",
    "# Visually confirm that the list is correctly sorted by decreasing eigenvalues\n",
    "for i in eig_pairs:\n",
    "   print(i[0])"
   ]
  },
  {
   "cell_type": "markdown",
   "metadata": {
    "_cell_guid": "156e204e-c794-4793-b326-3167689f1c9d",
    "_uuid": "1bdf5a899d54ae0becc71315f13ba300a5a03187"
   },
   "source": [
    "Thus using PCA algorithm, I reduce the dimensionality from 11 to 7.\n",
    "We can reject the last 4 dimensions\n",
    "The features we drop are Outlet_Establishment_Year, Outlet_Size, Outlet_Location, Outlet_type.\n",
    "The features we take into account are Item_Identifier, Item_Weight, ITem_Fat_Content, ITem_Visibilty, Item_Type, Outlet_Identifier, Item_MRP."
   ]
  },
  {
   "cell_type": "markdown",
   "metadata": {},
   "source": [
    "**References** :\n",
    "http://sebastianraschka.com/Articles/2014_pca_step_by_step.html"
   ]
  }
 ],
 "metadata": {
  "kernelspec": {
   "display_name": "Python 3",
   "language": "python",
   "name": "python3"
  },
  "language_info": {
   "codemirror_mode": {
    "name": "ipython",
    "version": 3
   },
   "file_extension": ".py",
   "mimetype": "text/x-python",
   "name": "python",
   "nbconvert_exporter": "python",
   "pygments_lexer": "ipython3",
   "version": "3.6.3"
  }
 },
 "nbformat": 4,
 "nbformat_minor": 1
}
